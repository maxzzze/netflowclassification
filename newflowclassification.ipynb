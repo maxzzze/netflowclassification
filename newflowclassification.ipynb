{
 "cells": [
  {
   "cell_type": "code",
   "execution_count": 126,
   "metadata": {
    "collapsed": true
   },
   "outputs": [],
   "source": [
    "import glob\n",
    "from shutil import copyfile\n",
    "import dask.dataframe as dd\n",
    "import os\n",
    "import pandas as pd\n",
    "import numpy as np\n",
    "import matplotlib.pylab as plt\n",
    "import seaborn as sns\n",
    "from sklearn.naive_bayes import GaussianNB\n",
    "from sklearn.metrics import accuracy_score\n",
    "from sklearn.model_selection import train_test_split\n",
    "from sklearn import neighbors, svm, tree\n",
    "from sklearn.linear_model import SGDClassifier\n",
    "from sklearn.neural_network import MLPClassifier\n",
    "from sklearn import metrics"
   ]
  },
  {
   "cell_type": "code",
   "execution_count": null,
   "metadata": {
    "collapsed": true
   },
   "outputs": [],
   "source": []
  },
  {
   "cell_type": "code",
   "execution_count": 3,
   "metadata": {
    "collapsed": true
   },
   "outputs": [],
   "source": [
    "df = dd.concat([dd.read_csv(file_, parse_dates=True)\n",
    "               for file_ in glob.glob('./CTU-13-Dataset/*/*.binetflow')]\n",
    "              )"
   ]
  },
  {
   "cell_type": "markdown",
   "metadata": {},
   "source": [
    "No labels contain C&C, however some contain 'cc'. If a label contains 'cc', it also contains 'botnet. Therefore, we just search for 'botnet'."
   ]
  },
  {
   "cell_type": "code",
   "execution_count": 4,
   "metadata": {
    "collapsed": true
   },
   "outputs": [],
   "source": [
    "df['target'] = df['Label'].apply(\n",
    "    lambda x: 1 if 'botnet' in x.lower() else 0, meta=('x', int)\n",
    ")"
   ]
  },
  {
   "cell_type": "code",
   "execution_count": 5,
   "metadata": {
    "collapsed": true
   },
   "outputs": [],
   "source": [
    "df = df[df['Label'].str.contains('Background') == False].reset_index(drop=True).compute()"
   ]
  },
  {
   "cell_type": "code",
   "execution_count": 6,
   "metadata": {
    "collapsed": true
   },
   "outputs": [],
   "source": [
    "df = df.sort_values(by='StartTime')"
   ]
  },
  {
   "cell_type": "code",
   "execution_count": 7,
   "metadata": {
    "collapsed": true
   },
   "outputs": [],
   "source": [
    "df['StartTime'] = pd.to_datetime(df['StartTime'])"
   ]
  },
  {
   "cell_type": "code",
   "execution_count": 8,
   "metadata": {},
   "outputs": [
    {
     "data": {
      "text/plain": [
       "52725"
      ]
     },
     "execution_count": 8,
     "metadata": {},
     "output_type": "execute_result"
    }
   ],
   "source": [
    "df['DstAddr'].nunique()"
   ]
  },
  {
   "cell_type": "code",
   "execution_count": 9,
   "metadata": {},
   "outputs": [
    {
     "data": {
      "text/plain": [
       "['StartTime',\n",
       " 'Dur',\n",
       " 'Proto',\n",
       " 'SrcAddr',\n",
       " 'Sport',\n",
       " 'Dir',\n",
       " 'DstAddr',\n",
       " 'Dport',\n",
       " 'State',\n",
       " 'sTos',\n",
       " 'dTos',\n",
       " 'TotPkts',\n",
       " 'TotBytes',\n",
       " 'SrcBytes',\n",
       " 'Label',\n",
       " 'target']"
      ]
     },
     "execution_count": 9,
     "metadata": {},
     "output_type": "execute_result"
    }
   ],
   "source": [
    "list(df)"
   ]
  },
  {
   "cell_type": "markdown",
   "metadata": {},
   "source": [
    "#### Assumptions\n",
    "* DstAddr refers to a c&c server\n",
    "* SrcAddr refers to a client"
   ]
  },
  {
   "cell_type": "code",
   "execution_count": 10,
   "metadata": {},
   "outputs": [
    {
     "data": {
      "text/html": [
       "<div>\n",
       "<style>\n",
       "    .dataframe thead tr:only-child th {\n",
       "        text-align: right;\n",
       "    }\n",
       "\n",
       "    .dataframe thead th {\n",
       "        text-align: left;\n",
       "    }\n",
       "\n",
       "    .dataframe tbody tr th {\n",
       "        vertical-align: top;\n",
       "    }\n",
       "</style>\n",
       "<table border=\"1\" class=\"dataframe\">\n",
       "  <thead>\n",
       "    <tr style=\"text-align: right;\">\n",
       "      <th></th>\n",
       "      <th>StartTime</th>\n",
       "      <th>Dur</th>\n",
       "      <th>Proto</th>\n",
       "      <th>SrcAddr</th>\n",
       "      <th>Sport</th>\n",
       "      <th>Dir</th>\n",
       "      <th>DstAddr</th>\n",
       "      <th>Dport</th>\n",
       "      <th>State</th>\n",
       "      <th>sTos</th>\n",
       "      <th>dTos</th>\n",
       "      <th>TotPkts</th>\n",
       "      <th>TotBytes</th>\n",
       "      <th>SrcBytes</th>\n",
       "      <th>Label</th>\n",
       "      <th>target</th>\n",
       "    </tr>\n",
       "  </thead>\n",
       "  <tbody>\n",
       "    <tr>\n",
       "      <th>0</th>\n",
       "      <td>2011-08-10 09:46:53.160043</td>\n",
       "      <td>0.0</td>\n",
       "      <td>udp</td>\n",
       "      <td>147.32.80.9</td>\n",
       "      <td>53</td>\n",
       "      <td>-&gt;</td>\n",
       "      <td>147.32.86.111</td>\n",
       "      <td>54230</td>\n",
       "      <td>INT</td>\n",
       "      <td>0.0</td>\n",
       "      <td>NaN</td>\n",
       "      <td>1</td>\n",
       "      <td>141</td>\n",
       "      <td>141</td>\n",
       "      <td>flow=From-Normal-V42-UDP-CVUT-DNS-Server</td>\n",
       "      <td>0</td>\n",
       "    </tr>\n",
       "    <tr>\n",
       "      <th>1</th>\n",
       "      <td>2011-08-10 09:46:54.045343</td>\n",
       "      <td>0.0</td>\n",
       "      <td>udp</td>\n",
       "      <td>147.32.80.9</td>\n",
       "      <td>53</td>\n",
       "      <td>-&gt;</td>\n",
       "      <td>147.32.86.111</td>\n",
       "      <td>58314</td>\n",
       "      <td>INT</td>\n",
       "      <td>0.0</td>\n",
       "      <td>NaN</td>\n",
       "      <td>1</td>\n",
       "      <td>247</td>\n",
       "      <td>247</td>\n",
       "      <td>flow=From-Normal-V42-UDP-CVUT-DNS-Server</td>\n",
       "      <td>0</td>\n",
       "    </tr>\n",
       "    <tr>\n",
       "      <th>2</th>\n",
       "      <td>2011-08-10 09:46:54.460552</td>\n",
       "      <td>0.0</td>\n",
       "      <td>udp</td>\n",
       "      <td>147.32.80.9</td>\n",
       "      <td>53</td>\n",
       "      <td>-&gt;</td>\n",
       "      <td>147.32.86.111</td>\n",
       "      <td>54823</td>\n",
       "      <td>INT</td>\n",
       "      <td>0.0</td>\n",
       "      <td>NaN</td>\n",
       "      <td>1</td>\n",
       "      <td>173</td>\n",
       "      <td>173</td>\n",
       "      <td>flow=From-Normal-V42-UDP-CVUT-DNS-Server</td>\n",
       "      <td>0</td>\n",
       "    </tr>\n",
       "  </tbody>\n",
       "</table>\n",
       "</div>"
      ],
      "text/plain": [
       "                   StartTime  Dur Proto      SrcAddr Sport    Dir  \\\n",
       "0 2011-08-10 09:46:53.160043  0.0   udp  147.32.80.9    53     ->   \n",
       "1 2011-08-10 09:46:54.045343  0.0   udp  147.32.80.9    53     ->   \n",
       "2 2011-08-10 09:46:54.460552  0.0   udp  147.32.80.9    53     ->   \n",
       "\n",
       "         DstAddr  Dport State  sTos  dTos  TotPkts  TotBytes  SrcBytes  \\\n",
       "0  147.32.86.111  54230   INT   0.0   NaN        1       141       141   \n",
       "1  147.32.86.111  58314   INT   0.0   NaN        1       247       247   \n",
       "2  147.32.86.111  54823   INT   0.0   NaN        1       173       173   \n",
       "\n",
       "                                      Label  target  \n",
       "0  flow=From-Normal-V42-UDP-CVUT-DNS-Server       0  \n",
       "1  flow=From-Normal-V42-UDP-CVUT-DNS-Server       0  \n",
       "2  flow=From-Normal-V42-UDP-CVUT-DNS-Server       0  "
      ]
     },
     "execution_count": 10,
     "metadata": {},
     "output_type": "execute_result"
    }
   ],
   "source": [
    "df.head(3)"
   ]
  },
  {
   "cell_type": "markdown",
   "metadata": {},
   "source": [
    "# Feature Extraction"
   ]
  },
  {
   "cell_type": "code",
   "execution_count": 11,
   "metadata": {
    "collapsed": true
   },
   "outputs": [],
   "source": [
    "### NOTES\n",
    "# Assuming \"SrcBytes\" corresponds to the bytes from the source TO the destination IP\n",
    "# Assuming we are looking for unique source IPs connecting to the destination IP\n",
    "# Assuming we are looking for unique protocols connecting to the destination IP\n",
    "# len(set(x)) creates a unique count\n",
    "\n",
    "df_clean = df.groupby('DstAddr').agg(\n",
    "    {\n",
    "        'DstAddr': lambda x: len(x),\n",
    "        'SrcAddr': lambda x: len(set(x)),\n",
    "        'Proto': lambda x: len(set(x)),\n",
    "        'TotPkts': ['sum','std', 'mean'],\n",
    "        'SrcBytes': ['sum', 'std', 'mean']\n",
    "    }\n",
    ")"
   ]
  },
  {
   "cell_type": "code",
   "execution_count": 12,
   "metadata": {
    "collapsed": true
   },
   "outputs": [],
   "source": [
    "df_clean.columns = df_clean.columns.droplevel()"
   ]
  },
  {
   "cell_type": "code",
   "execution_count": 13,
   "metadata": {
    "collapsed": true
   },
   "outputs": [],
   "source": [
    "df_clean.reset_index(inplace=True)"
   ]
  },
  {
   "cell_type": "markdown",
   "metadata": {},
   "source": [
    "## Method according to:\n",
    "\n",
    "### _DISCLOSURE: Detecting Botnet Command and ControlServers Through Large-Scale NetFlow Analysis_\n"
   ]
  },
  {
   "cell_type": "markdown",
   "metadata": {},
   "source": [
    "## _Flow Size based Features_"
   ]
  },
  {
   "cell_type": "markdown",
   "metadata": {},
   "source": [
    "\n",
    "Let the series of flow sizes be $F_{i,j}$. We derive the resample $\\hat{F}_{i,f}$ by spilling $F_{i,j}$ into 300 second intervals and taking the mean for each interval. Any destination IP addresses which do not appear in the interval are filled in as 0."
   ]
  },
  {
   "cell_type": "code",
   "execution_count": 14,
   "metadata": {
    "collapsed": true
   },
   "outputs": [],
   "source": [
    "# Sample the dataframe by 300S according and take the mean for each interval. Method according to:\n",
    "# DISCLOSURE: Detecting Botnet Command and ControlServers Through Large-Scale NetFlow Analysis\n",
    "\n",
    "df_sample = df.groupby('DstAddr').resample('300S', on='StartTime').apply(np.mean).reset_index().fillna(0)"
   ]
  },
  {
   "cell_type": "markdown",
   "metadata": {},
   "source": [
    "Calculate the discrete autocorrelation coefficient:\n"
   ]
  },
  {
   "cell_type": "markdown",
   "metadata": {},
   "source": [
    "\n",
    "\n",
    "\n",
    "$R_{\\hat{F}_{i,j}\\hat{F}_{i,j}} = \\frac{\\sum_{i=j}^{n}x_{i}\\bar{x}_{i=j}}{\\sigma^{2}}$"
   ]
  },
  {
   "cell_type": "code",
   "execution_count": 15,
   "metadata": {
    "collapsed": true
   },
   "outputs": [],
   "source": [
    "def discrete_autocorrelation_coeff(row):\n",
    "    variance = np.var(row)\n",
    "    if variance == 0:\n",
    "        return 0\n",
    "    else:\n",
    "        return np.sum(row.shift(1) * row) / variance"
   ]
  },
  {
   "cell_type": "code",
   "execution_count": 16,
   "metadata": {
    "collapsed": true
   },
   "outputs": [],
   "source": [
    "df_auto_bytes = df_sample.groupby('DstAddr').apply(\n",
    "    lambda x: discrete_autocorrelation_coeff(x['SrcBytes'])\n",
    ").reset_index()"
   ]
  },
  {
   "cell_type": "code",
   "execution_count": 17,
   "metadata": {
    "collapsed": true
   },
   "outputs": [],
   "source": [
    "df_clean = df_clean.merge(df_auto_bytes, on='DstAddr', how='left')"
   ]
  },
  {
   "cell_type": "markdown",
   "metadata": {},
   "source": [
    "## _Client Access Patterns-Based Features_"
   ]
  },
  {
   "cell_type": "markdown",
   "metadata": {},
   "source": [
    "Let $s_{i}$ be the source and $c_{j}$ be the destination. We prepare a time series $T_{i,j}$ of flows. A sequence of flow inter-arrival times $I_{i,j}$ is derived from time series by taking the difference between consecutive connections:"
   ]
  },
  {
   "cell_type": "markdown",
   "metadata": {},
   "source": [
    "\n",
    "\n",
    "$I_{i,j} = \\cup^{n}_{k=1}t_{i,j,k} - t_{i,j,k-1}$"
   ]
  },
  {
   "cell_type": "code",
   "execution_count": 18,
   "metadata": {
    "collapsed": true
   },
   "outputs": [],
   "source": [
    "def regular_access_patterns(timeseries):\n",
    "     return (timeseries - timeseries.shift(1))\n",
    "    "
   ]
  },
  {
   "cell_type": "code",
   "execution_count": 19,
   "metadata": {
    "collapsed": true
   },
   "outputs": [],
   "source": [
    "clntPattern_df = df.groupby(['DstAddr', 'SrcAddr']).apply(\n",
    "    lambda x: regular_access_patterns(x['StartTime'])\n",
    ")"
   ]
  },
  {
   "cell_type": "code",
   "execution_count": 20,
   "metadata": {
    "collapsed": true
   },
   "outputs": [],
   "source": [
    "clntPattern_df = clntPattern_df.reset_index().fillna(0)"
   ]
  },
  {
   "cell_type": "code",
   "execution_count": 21,
   "metadata": {
    "collapsed": true
   },
   "outputs": [],
   "source": [
    "clntPattern_df['StartTime'] = clntPattern_df['StartTime'].dt.total_seconds()"
   ]
  },
  {
   "cell_type": "code",
   "execution_count": 22,
   "metadata": {
    "collapsed": true
   },
   "outputs": [],
   "source": [
    "clntPattern_df = pd.DataFrame(clntPattern_df).reset_index().groupby('DstAddr').agg(\n",
    "    {\n",
    "        'StartTime': ['min', 'max', 'mean', 'std']\n",
    "    }\n",
    ")"
   ]
  },
  {
   "cell_type": "code",
   "execution_count": 23,
   "metadata": {
    "collapsed": true
   },
   "outputs": [],
   "source": [
    "clntPattern_df.columns = clntPattern_df.columns.droplevel()"
   ]
  },
  {
   "cell_type": "code",
   "execution_count": 24,
   "metadata": {
    "collapsed": true
   },
   "outputs": [],
   "source": [
    "clntPattern_df = clntPattern_df.reset_index().fillna(0)"
   ]
  },
  {
   "cell_type": "code",
   "execution_count": 25,
   "metadata": {
    "collapsed": true
   },
   "outputs": [],
   "source": [
    "df_clean = df_clean.merge(clntPattern_df, on='DstAddr', how='left')"
   ]
  },
  {
   "cell_type": "code",
   "execution_count": 26,
   "metadata": {
    "collapsed": true
   },
   "outputs": [],
   "source": [
    "df_clean.columns = [\n",
    "    'DstAddr',\n",
    "    'TotFlows',\n",
    "    'TotSource',\n",
    "    'TotProtos',\n",
    "    'SumTotPkts',\n",
    "    'StdTotPkts',\n",
    "    'MeanTotPkts', \n",
    "    'SumSrcBytes',\n",
    "    'StdSrcBytes',\n",
    "    'MeansrcBytes', \n",
    "    'AutocovSrcBytes',\n",
    "    'minSecBtwnSrc',\n",
    "    'maxSecBtwnSrc',\n",
    "    'meanSecBtwnSrc',\n",
    "    'stdSecBtwnSrc'\n",
    "]"
   ]
  },
  {
   "cell_type": "code",
   "execution_count": 27,
   "metadata": {
    "collapsed": true
   },
   "outputs": [],
   "source": [
    "df_clean = df_clean.fillna(0)"
   ]
  },
  {
   "cell_type": "code",
   "execution_count": 28,
   "metadata": {
    "collapsed": true
   },
   "outputs": [],
   "source": [
    "targets = df[['DstAddr','target']].set_index('DstAddr').to_dict()['target']\n",
    "df_clean['target'] = df_clean['DstAddr'].apply(lambda x: targets[x])"
   ]
  },
  {
   "cell_type": "markdown",
   "metadata": {
    "collapsed": true
   },
   "source": [
    "# Data Analysis"
   ]
  },
  {
   "cell_type": "code",
   "execution_count": 29,
   "metadata": {},
   "outputs": [
    {
     "data": {
      "text/html": [
       "<div>\n",
       "<style>\n",
       "    .dataframe thead tr:only-child th {\n",
       "        text-align: right;\n",
       "    }\n",
       "\n",
       "    .dataframe thead th {\n",
       "        text-align: left;\n",
       "    }\n",
       "\n",
       "    .dataframe tbody tr th {\n",
       "        vertical-align: top;\n",
       "    }\n",
       "</style>\n",
       "<table border=\"1\" class=\"dataframe\">\n",
       "  <thead>\n",
       "    <tr style=\"text-align: right;\">\n",
       "      <th></th>\n",
       "      <th>DstAddr</th>\n",
       "      <th>TotFlows</th>\n",
       "      <th>TotSource</th>\n",
       "      <th>TotProtos</th>\n",
       "      <th>SumTotPkts</th>\n",
       "      <th>StdTotPkts</th>\n",
       "      <th>MeanTotPkts</th>\n",
       "      <th>SumSrcBytes</th>\n",
       "      <th>StdSrcBytes</th>\n",
       "      <th>MeansrcBytes</th>\n",
       "      <th>AutocovSrcBytes</th>\n",
       "      <th>minSecBtwnSrc</th>\n",
       "      <th>maxSecBtwnSrc</th>\n",
       "      <th>meanSecBtwnSrc</th>\n",
       "      <th>stdSecBtwnSrc</th>\n",
       "      <th>target</th>\n",
       "    </tr>\n",
       "  </thead>\n",
       "  <tbody>\n",
       "    <tr>\n",
       "      <th>0</th>\n",
       "      <td>0.0.0.1</td>\n",
       "      <td>2</td>\n",
       "      <td>1</td>\n",
       "      <td>1</td>\n",
       "      <td>2</td>\n",
       "      <td>0.000000</td>\n",
       "      <td>1.0</td>\n",
       "      <td>120</td>\n",
       "      <td>0.000000</td>\n",
       "      <td>60.0</td>\n",
       "      <td>0.000000</td>\n",
       "      <td>0.0</td>\n",
       "      <td>0.538312</td>\n",
       "      <td>0.269156</td>\n",
       "      <td>0.380644</td>\n",
       "      <td>0</td>\n",
       "    </tr>\n",
       "    <tr>\n",
       "      <th>1</th>\n",
       "      <td>1.1.1.1</td>\n",
       "      <td>1</td>\n",
       "      <td>1</td>\n",
       "      <td>1</td>\n",
       "      <td>1</td>\n",
       "      <td>0.000000</td>\n",
       "      <td>1.0</td>\n",
       "      <td>62</td>\n",
       "      <td>0.000000</td>\n",
       "      <td>62.0</td>\n",
       "      <td>0.000000</td>\n",
       "      <td>0.0</td>\n",
       "      <td>0.000000</td>\n",
       "      <td>0.000000</td>\n",
       "      <td>0.000000</td>\n",
       "      <td>1</td>\n",
       "    </tr>\n",
       "    <tr>\n",
       "      <th>2</th>\n",
       "      <td>1.202.133.61</td>\n",
       "      <td>2</td>\n",
       "      <td>2</td>\n",
       "      <td>1</td>\n",
       "      <td>37</td>\n",
       "      <td>24.748737</td>\n",
       "      <td>18.5</td>\n",
       "      <td>1621</td>\n",
       "      <td>1020.355085</td>\n",
       "      <td>810.5</td>\n",
       "      <td>0.261924</td>\n",
       "      <td>0.0</td>\n",
       "      <td>0.000000</td>\n",
       "      <td>0.000000</td>\n",
       "      <td>0.000000</td>\n",
       "      <td>1</td>\n",
       "    </tr>\n",
       "  </tbody>\n",
       "</table>\n",
       "</div>"
      ],
      "text/plain": [
       "        DstAddr  TotFlows  TotSource  TotProtos  SumTotPkts  StdTotPkts  \\\n",
       "0       0.0.0.1         2          1          1           2    0.000000   \n",
       "1       1.1.1.1         1          1          1           1    0.000000   \n",
       "2  1.202.133.61         2          2          1          37   24.748737   \n",
       "\n",
       "   MeanTotPkts  SumSrcBytes  StdSrcBytes  MeansrcBytes  AutocovSrcBytes  \\\n",
       "0          1.0          120     0.000000          60.0         0.000000   \n",
       "1          1.0           62     0.000000          62.0         0.000000   \n",
       "2         18.5         1621  1020.355085         810.5         0.261924   \n",
       "\n",
       "   minSecBtwnSrc  maxSecBtwnSrc  meanSecBtwnSrc  stdSecBtwnSrc  target  \n",
       "0            0.0       0.538312        0.269156       0.380644       0  \n",
       "1            0.0       0.000000        0.000000       0.000000       1  \n",
       "2            0.0       0.000000        0.000000       0.000000       1  "
      ]
     },
     "execution_count": 29,
     "metadata": {},
     "output_type": "execute_result"
    }
   ],
   "source": [
    "df_clean.head(3)"
   ]
  },
  {
   "cell_type": "code",
   "execution_count": 30,
   "metadata": {},
   "outputs": [
    {
     "data": {
      "image/png": "[encoded data removed]",
      "text/plain": [
       "<matplotlib.figure.Figure at 0x1c5191c710>"
      ]
     },
     "metadata": {},
     "output_type": "display_data"
    },
    {
     "data": {
      "image/png": "[encoded data removed]",
      "text/plain": [
       "<matplotlib.figure.Figure at 0x1c15a4d208>"
      ]
     },
     "metadata": {},
     "output_type": "display_data"
    }
   ],
   "source": [
    "df_clean.drop(['DstAddr'], axis=1).groupby(['target']).hist(\n",
    "    figsize=(10,10),\n",
    "    sharex=False\n",
    ")\n",
    "plt.show()"
   ]
  },
  {
   "cell_type": "code",
   "execution_count": 31,
   "metadata": {
    "scrolled": false
   },
   "outputs": [
    {
     "name": "stdout",
     "output_type": "stream",
     "text": [
      "TotFlows\n"
     ]
    },
    {
     "data": {
      "image/png": "[encoded data removed]",
      "text/plain": [
       "<matplotlib.figure.Figure at 0x1c56f23470>"
      ]
     },
     "metadata": {},
     "output_type": "display_data"
    },
    {
     "name": "stdout",
     "output_type": "stream",
     "text": [
      "TotSource\n"
     ]
    },
    {
     "data": {
      "image/png": "[encoded data removed]",
      "text/plain": [
       "<matplotlib.figure.Figure at 0x1c18db0320>"
      ]
     },
     "metadata": {},
     "output_type": "display_data"
    },
    {
     "name": "stdout",
     "output_type": "stream",
     "text": [
      "TotProtos\n"
     ]
    },
    {
     "data": {
      "image/png": "[encoded data removed]",
      "text/plain": [
       "<matplotlib.figure.Figure at 0x1c187a0cf8>"
      ]
     },
     "metadata": {},
     "output_type": "display_data"
    },
    {
     "name": "stdout",
     "output_type": "stream",
     "text": [
      "SumTotPkts\n"
     ]
    },
    {
     "data": {
      "image/png": "[encoded data removed]",
      "text/plain": [
       "<matplotlib.figure.Figure at 0x1c1878cd30>"
      ]
     },
     "metadata": {},
     "output_type": "display_data"
    },
    {
     "name": "stdout",
     "output_type": "stream",
     "text": [
      "StdTotPkts\n"
     ]
    },
    {
     "data": {
      "image/png": "[encoded data removed]",
      "text/plain": [
       "<matplotlib.figure.Figure at 0x1c187ae1d0>"
      ]
     },
     "metadata": {},
     "output_type": "display_data"
    },
    {
     "name": "stdout",
     "output_type": "stream",
     "text": [
      "MeanTotPkts\n"
     ]
    },
    {
     "data": {
      "image/png": "[encoded data removed]",
      "text/plain": [
       "<matplotlib.figure.Figure at 0x1c40478f98>"
      ]
     },
     "metadata": {},
     "output_type": "display_data"
    },
    {
     "name": "stdout",
     "output_type": "stream",
     "text": [
      "SumSrcBytes\n"
     ]
    },
    {
     "data": {
      "image/png": "[encoded data removed]",
      "text/plain": [
       "<matplotlib.figure.Figure at 0x1c52d38da0>"
      ]
     },
     "metadata": {},
     "output_type": "display_data"
    },
    {
     "name": "stdout",
     "output_type": "stream",
     "text": [
      "StdSrcBytes\n"
     ]
    },
    {
     "data": {
      "image/png": "[encoded data removed]",
      "text/plain": [
       "<matplotlib.figure.Figure at 0x1c1f776978>"
      ]
     },
     "metadata": {},
     "output_type": "display_data"
    },
    {
     "name": "stdout",
     "output_type": "stream",
     "text": [
      "MeansrcBytes\n"
     ]
    },
    {
     "data": {
      "image/png": "[encoded data removed]",
      "text/plain": [
       "<matplotlib.figure.Figure at 0x1c47eb4f60>"
      ]
     },
     "metadata": {},
     "output_type": "display_data"
    },
    {
     "name": "stdout",
     "output_type": "stream",
     "text": [
      "AutocovSrcBytes\n"
     ]
    },
    {
     "data": {
      "image/png": "[encoded data removed]",
      "text/plain": [
       "<matplotlib.figure.Figure at 0x1c434aebe0>"
      ]
     },
     "metadata": {},
     "output_type": "display_data"
    },
    {
     "name": "stdout",
     "output_type": "stream",
     "text": [
      "minSecBtwnSrc\n"
     ]
    },
    {
     "data": {
      "image/png": "[encoded data removed]",
      "text/plain": [
       "<matplotlib.figure.Figure at 0x1c47232208>"
      ]
     },
     "metadata": {},
     "output_type": "display_data"
    },
    {
     "name": "stdout",
     "output_type": "stream",
     "text": [
      "maxSecBtwnSrc\n"
     ]
    },
    {
     "data": {
      "image/png": "[encoded data removed]",
      "text/plain": [
       "<matplotlib.figure.Figure at 0x1c472fed30>"
      ]
     },
     "metadata": {},
     "output_type": "display_data"
    },
    {
     "name": "stdout",
     "output_type": "stream",
     "text": [
      "meanSecBtwnSrc\n"
     ]
    },
    {
     "data": {
      "image/png": "[encoded data removed]",
      "text/plain": [
       "<matplotlib.figure.Figure at 0x1c472e5278>"
      ]
     },
     "metadata": {},
     "output_type": "display_data"
    },
    {
     "name": "stdout",
     "output_type": "stream",
     "text": [
      "stdSecBtwnSrc\n"
     ]
    },
    {
     "data": {
      "image/png": "[encoded data removed]",
      "text/plain": [
       "<matplotlib.figure.Figure at 0x1c4eadafd0>"
      ]
     },
     "metadata": {},
     "output_type": "display_data"
    }
   ],
   "source": [
    "plot_df = df_clean.copy()\n",
    "plot_df['target'] = plot_df['target'].replace({0: 'benigin', 1:'botnet'})\n",
    "plot_df = plot_df.groupby('target')\n",
    "labels = [name for name,group in plot_df]\n",
    "fig, ax = plt.subplots()\n",
    "\n",
    "for x in list(df_clean.drop(['DstAddr', 'target'], axis=1)):\n",
    "    print(x)\n",
    "    for k, v in plot_df[x]:\n",
    "        v.hist(label=k, alpha=.5)\n",
    "    plt.legend(bbox_to_anchor=(1.05, 1), loc=2, borderaxespad=0.)\n",
    "    plt.show()\n"
   ]
  },
  {
   "cell_type": "markdown",
   "metadata": {
    "collapsed": true
   },
   "source": [
    "# Classification"
   ]
  },
  {
   "cell_type": "code",
   "execution_count": 46,
   "metadata": {
    "collapsed": true
   },
   "outputs": [],
   "source": [
    "# Split our data\n",
    "train, test, train_labels, test_labels = train_test_split(\n",
    "    df_clean.drop(['target', 'DstAddr'], axis=1),\n",
    "    df_clean['target'],\n",
    "    test_size=0.33,\n",
    "    random_state=42\n",
    ")"
   ]
  },
  {
   "cell_type": "markdown",
   "metadata": {},
   "source": [
    "## Decision Trees"
   ]
  },
  {
   "cell_type": "code",
   "execution_count": 47,
   "metadata": {
    "collapsed": true
   },
   "outputs": [],
   "source": [
    "# Initiate\n",
    "dtree = tree.DecisionTreeClassifier()\n",
    "\n",
    "# Train\n",
    "model = dtree.fit(train, train_labels)"
   ]
  },
  {
   "cell_type": "code",
   "execution_count": 49,
   "metadata": {
    "collapsed": true
   },
   "outputs": [],
   "source": [
    "# Predct\n",
    "preds = dtree.predict(test)"
   ]
  },
  {
   "cell_type": "code",
   "execution_count": 50,
   "metadata": {},
   "outputs": [
    {
     "name": "stdout",
     "output_type": "stream",
     "text": [
      "0.98591954023\n"
     ]
    }
   ],
   "source": [
    "# Evaluate\n",
    "print(accuracy_score(test_labels, preds))"
   ]
  },
  {
   "cell_type": "code",
   "execution_count": 51,
   "metadata": {},
   "outputs": [
    {
     "name": "stdout",
     "output_type": "stream",
     "text": [
      "Number of mislabeled points out of a total 17400 points : 245\n"
     ]
    }
   ],
   "source": [
    "print(\"Number of mislabeled points out of a total %d points : %d\"% (len(test),(test_labels != preds).sum()))"
   ]
  },
  {
   "cell_type": "markdown",
   "metadata": {},
   "source": [
    "## Naive Bayes"
   ]
  },
  {
   "cell_type": "code",
   "execution_count": 33,
   "metadata": {
    "collapsed": true
   },
   "outputs": [],
   "source": [
    "#Initialize\n",
    "gnb = GaussianNB()\n",
    "\n",
    "# Train\n",
    "model = gnb.fit(train, train_labels)"
   ]
  },
  {
   "cell_type": "code",
   "execution_count": 34,
   "metadata": {
    "collapsed": true
   },
   "outputs": [],
   "source": [
    "# Predict\n",
    "preds = gnb.predict(test)"
   ]
  },
  {
   "cell_type": "code",
   "execution_count": 35,
   "metadata": {},
   "outputs": [
    {
     "name": "stdout",
     "output_type": "stream",
     "text": [
      "0.910114942529\n"
     ]
    }
   ],
   "source": [
    "# Evaluate\n",
    "print(accuracy_score(test_labels, preds))"
   ]
  },
  {
   "cell_type": "code",
   "execution_count": 36,
   "metadata": {},
   "outputs": [
    {
     "name": "stdout",
     "output_type": "stream",
     "text": [
      "Number of mislabeled points out of a total 17400 points : 1564\n"
     ]
    }
   ],
   "source": [
    "print(\"Number of mislabeled points out of a total %d points : %d\"% (\n",
    "    len(test),\n",
    "    (test_labels != preds).sum())\n",
    ")"
   ]
  },
  {
   "cell_type": "markdown",
   "metadata": {},
   "source": [
    "## KNN"
   ]
  },
  {
   "cell_type": "code",
   "execution_count": 37,
   "metadata": {
    "collapsed": true
   },
   "outputs": [],
   "source": [
    "# Initialize\n",
    "knn = neighbors.KNeighborsClassifier()\n",
    "model = knn.fit(train, train_labels)"
   ]
  },
  {
   "cell_type": "code",
   "execution_count": 38,
   "metadata": {
    "collapsed": true
   },
   "outputs": [],
   "source": [
    "# Predict\n",
    "preds = knn.predict(test)"
   ]
  },
  {
   "cell_type": "code",
   "execution_count": 39,
   "metadata": {},
   "outputs": [
    {
     "name": "stdout",
     "output_type": "stream",
     "text": [
      "0.979022988506\n"
     ]
    }
   ],
   "source": [
    "# Evaluate\n",
    "print(accuracy_score(test_labels, preds))"
   ]
  },
  {
   "cell_type": "code",
   "execution_count": 40,
   "metadata": {},
   "outputs": [
    {
     "name": "stdout",
     "output_type": "stream",
     "text": [
      "Number of mislabeled points out of a total 17400 points : 365\n"
     ]
    }
   ],
   "source": [
    "print(\"Number of mislabeled points out of a total %d points : %d\"% (\n",
    "    len(test),\n",
    "    (test_labels != preds).sum())\n",
    ")"
   ]
  },
  {
   "cell_type": "markdown",
   "metadata": {},
   "source": [
    "## MLP (multi-layer perceptron)"
   ]
  },
  {
   "cell_type": "code",
   "execution_count": 41,
   "metadata": {
    "collapsed": true
   },
   "outputs": [],
   "source": [
    "from sklearn.preprocessing import StandardScaler  \n",
    "scaler = StandardScaler()  \n",
    "\n",
    "scaler.fit(train)  \n",
    "X_train = scaler.transform(train)  \n",
    "# apply same transformation to test data\n",
    "X_test = scaler.transform(test)  "
   ]
  },
  {
   "cell_type": "code",
   "execution_count": 70,
   "metadata": {
    "collapsed": true
   },
   "outputs": [],
   "source": [
    "mlp = MLPClassifier(solver='lbfgs', alpha=1e-5,\n",
    "                     hidden_layer_sizes=(100,2), random_state=1)\n",
    "\n",
    "model = mlp.fit(X_train, train_labels)"
   ]
  },
  {
   "cell_type": "code",
   "execution_count": 71,
   "metadata": {
    "collapsed": true
   },
   "outputs": [],
   "source": [
    "preds = mlp.predict(X_test)"
   ]
  },
  {
   "cell_type": "code",
   "execution_count": 72,
   "metadata": {},
   "outputs": [
    {
     "name": "stdout",
     "output_type": "stream",
     "text": [
      "0.925344827586\n"
     ]
    }
   ],
   "source": [
    "# Evaluate\n",
    "print(accuracy_score(test_labels, preds))"
   ]
  },
  {
   "cell_type": "code",
   "execution_count": 73,
   "metadata": {},
   "outputs": [
    {
     "name": "stdout",
     "output_type": "stream",
     "text": [
      "Number of mislabeled points out of a total 17400 points : 1299\n"
     ]
    }
   ],
   "source": [
    "print(\"Number of mislabeled points out of a total %d points : %d\"% (\n",
    "    len(test),\n",
    "    (test_labels != preds).sum())\n",
    ")"
   ]
  },
  {
   "cell_type": "markdown",
   "metadata": {
    "collapsed": true
   },
   "source": [
    "## SGD"
   ]
  },
  {
   "cell_type": "code",
   "execution_count": 113,
   "metadata": {
    "collapsed": true
   },
   "outputs": [],
   "source": [
    "sgd = SGDClassifier(loss=\"log\", penalty=\"l2\", tol=1e-3)\n",
    "\n",
    "model = sgd.fit(X_train, train_labels)"
   ]
  },
  {
   "cell_type": "code",
   "execution_count": 114,
   "metadata": {
    "collapsed": true
   },
   "outputs": [],
   "source": [
    "preds = sgd.predict(X_test)"
   ]
  },
  {
   "cell_type": "code",
   "execution_count": 115,
   "metadata": {},
   "outputs": [
    {
     "name": "stdout",
     "output_type": "stream",
     "text": [
      "0.912011494253\n"
     ]
    }
   ],
   "source": [
    "# Evaluate\n",
    "print(accuracy_score(test_labels, preds))"
   ]
  },
  {
   "cell_type": "code",
   "execution_count": 116,
   "metadata": {},
   "outputs": [
    {
     "name": "stdout",
     "output_type": "stream",
     "text": [
      "Number of mislabeled points out of a total 17400 points : 1531\n"
     ]
    }
   ],
   "source": [
    "print(\"Number of mislabeled points out of a total %d points : %d\"% (\n",
    "    len(test),\n",
    "    (test_labels != preds).sum())\n",
    ")"
   ]
  },
  {
   "cell_type": "markdown",
   "metadata": {
    "collapsed": true
   },
   "source": [
    "# Metrics"
   ]
  },
  {
   "cell_type": "code",
   "execution_count": 117,
   "metadata": {
    "collapsed": true
   },
   "outputs": [],
   "source": [
    "models = [\n",
    "    (dtree, 'dtree'),\n",
    "    (gnb,'gnb'),\n",
    "    (knn, 'knn'),\n",
    "    (mlp, 'mlp'),\n",
    "    (sgd, 'sgd')\n",
    "]"
   ]
  },
  {
   "cell_type": "code",
   "execution_count": 127,
   "metadata": {},
   "outputs": [
    {
     "data": {
      "image/png": "[encoded data removed]",
      "text/plain": [
       "<matplotlib.figure.Figure at 0x1c4eac8400>"
      ]
     },
     "metadata": {},
     "output_type": "display_data"
    }
   ],
   "source": [
    "fig, ax = plt.subplots(1, 1, figsize=(21,10))\n",
    "\n",
    "for mod in models:\n",
    "    if mod[1] in ['sgd', 'mlp']:\n",
    "        preds = mod[0].predict_proba(X_test)[:,1]\n",
    "    else:\n",
    "        preds = mod[0].predict_proba(test)[:,1]\n",
    "        \n",
    "    fpr, tpr, _ = metrics.roc_curve(test_labels, preds)\n",
    "    auc = metrics.roc_auc_score(test_labels, preds)\n",
    "    plt.plot(fpr,tpr,label=\"%s, auc=%s\"% (str(auc), str(mod[1])))\n",
    "    plt.legend(loc=4)\n",
    "plt.ylim(0, 1)\n",
    "plt.xlim(0, 1)\n",
    "ax.tick_params(axis='both', which='both', labelsize=10)\n",
    "ax.legend(prop={'size':15})\n",
    "plt.show()\n"
   ]
  },
  {
   "cell_type": "markdown",
   "metadata": {
    "collapsed": true
   },
   "source": [
    "# Report"
   ]
  },
  {
   "cell_type": "markdown",
   "metadata": {},
   "source": [
    "Features were based on prior academic research on what features would help decipher botnet traffic from regular network traffic. \n",
    "\n",
    "This report used basic statistics like:\n",
    "* Total number of flows to destination IP\n",
    "* Total source IPs connecting to destination IP\n",
    "* Total protocols to destination IP\n",
    "* Total number of bytes to destination IP\n",
    "* Mean number of bytes to destination IP\n",
    "* Standard deviation of bytes to destination IP \n",
    "* Total number of packets to destination IP\n",
    "* Mean number of packets to destination IP\n",
    "* Standard deviation of bytes to destination IP\n",
    "\n",
    "Higher level analyses like:\n",
    "* Discrete autocovariance of bytes to destination IP\n",
    "* Minimum time between source --> destination flows\n",
    "* Maximum time between source --> destination flows\n",
    "* Mean time between source --> destination flows\n",
    "* Standard deviation of time between source --> destination flows"
   ]
  },
  {
   "cell_type": "markdown",
   "metadata": {},
   "source": [
    "It is clear from graphing the distributions (histogram) of each feature for benign and botnet traffic that the behavior is _much_ different for every feature. We can see that botnet traffic is much more concentrated for some features like TotFlows and SumSrcBytes. The autocovariance of botnet traffic contains a range of much larger values - indicating repeating patterns in botnet traffic. Lastly, we see that botnets wait consistent amounts of time between connections, like maxSecBtwnSrc. We see that benign traffic covers a much larger range of values for this feature than botnet traffic. "
   ]
  },
  {
   "cell_type": "markdown",
   "metadata": {},
   "source": [
    "The classification performed was with five models. Decision trees, KNN, gaussian naive bayes, multi-layer perceptrons, and stochastic gradient descent classifiers. It could be expected that gaussian naive bayes would perform the worst in terms of ROC because this model assumes that the features can be represented as a gaussian distribution - which in this case, they most likely cannot. The decision trees and KNN perform the best. Lastly, the neural network models do not perform very well (but better than naive bayes) because perhaps there are too many factors to consider (i.e. the number of neurons, the solver), the data had to be fit to a scalar range, and there was no hyper parameter tuning or optimization."
   ]
  },
  {
   "cell_type": "markdown",
   "metadata": {},
   "source": [
    "Overall, if there was more time to continue this report, I would first explore more feature extracton labels. I would then do the same analysis (exploring benign and botnet traffic) with different graphs beyond the distribution plots above. Lastly, I would take one of the better performing models like KNN or decision trees and produce more performance metrics while also drilling down into its predicted results."
   ]
  },
  {
   "cell_type": "code",
   "execution_count": null,
   "metadata": {
    "collapsed": true
   },
   "outputs": [],
   "source": []
  }
 ],
 "metadata": {
  "kernelspec": {
   "display_name": "Python 3",
   "language": "python",
   "name": "python3"
  },
  "language_info": {
   "codemirror_mode": {
    "name": "ipython",
    "version": 3
   },
   "file_extension": ".py",
   "mimetype": "text/x-python",
   "name": "python",
   "nbconvert_exporter": "python",
   "pygments_lexer": "ipython3",
   "version": "3.6.3"
  }
 },
 "nbformat": 4,
 "nbformat_minor": 2
}
